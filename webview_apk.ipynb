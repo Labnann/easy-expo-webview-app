{
  "cells": [
    {
      "cell_type": "code",
      "execution_count": null,
      "metadata": {
        "id": "glJ6D1D04Ebl"
      },
      "outputs": [],
      "source": [
        "!git clone https://github.com/Labnann/easy-expo-webview-app wvapk\n",
        "%cd wvapk\n",
        "\n",
        "!npm install -g npm\n",
        "!npm install expo-cli -g"
      ]
    },
    {
      "cell_type": "code",
      "source": [
        "!expo login"
      ],
      "metadata": {
        "id": "haZ15mPk1uMU"
      },
      "execution_count": null,
      "outputs": []
    },
    {
      "cell_type": "code",
      "source": [
        "APP_NAME=\"TestBuildColab\"\n",
        "WEB_URI=\"https://www.google.com\"\n",
        "ICON_URI=\"https://w7.pngwing.com/pngs/959/515/png-transparent-square-squares-miscellaneous-angle-white.png\""
      ],
      "metadata": {
        "id": "DBRn5Zk0urrV"
      },
      "execution_count": 6,
      "outputs": []
    },
    {
      "cell_type": "code",
      "source": [
        "!./scripts/create_app.sh $APP_NAME $WEB_URI $ICON_URI"
      ],
      "metadata": {
        "id": "U9MPpO0Fz9MW"
      },
      "execution_count": null,
      "outputs": []
    }
  ],
  "metadata": {
    "colab": {
      "name": "webview-apk.ipynb",
      "provenance": [],
      "collapsed_sections": []
    },
    "kernelspec": {
      "display_name": "Python 3",
      "name": "python3"
    },
    "language_info": {
      "name": "python"
    }
  },
  "nbformat": 4,
  "nbformat_minor": 0
}
